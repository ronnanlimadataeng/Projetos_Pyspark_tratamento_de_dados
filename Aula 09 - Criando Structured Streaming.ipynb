{
 "cells": [
  {
   "cell_type": "markdown",
   "metadata": {},
   "source": [
    "## Structured Streaming - Exercicio - Aula 9\n",
    "\n",
    "1. Criar uma aplicação em scala usando o spark para ler os dados da porta 9999 e exibir no console\n",
    "\n",
    "CRIAR LEITURA STREAM USANDO PYSPARK AO INVES DE SPARK-SHELL(SCALA)\n",
    "porta_leitura = spark.readStream.format(\"socket\").option(\"host\",\"localhost\").option(\"port\",\"9999\").load()\n",
    "porta_saida = porta_leitura.writeStream.format(\"console\").start()\n",
    "\n",
    "UTILIZANDO NETCAT DENTRO DO CONTAINER JUPYTER PARA INJETAR MENSAGENS\n",
    "nc -lp 9999\n",
    "\n",
    "2. Ler os arquivos csv “hdfs://namenode:8020/user/<nome>/data/iris/*.data” em modo streaming com o seguinte schema:\n",
    "    sepal_length float\n",
    "    sepal_width float\n",
    "    petal_length float\n",
    "    petal_width float\n",
    "    class string\n",
    "3. Visualizar o schema das informações\n",
    "4. Salvar os dados no diretório “hdfs://namenode:8020/user/<nome>/stream_iris/path” e o checkpoint em “hdfs://namenode:8020/user/<nome>/stream_iris/check”\n",
    "5. Verificar a saida no hdfs e entender como os dados foram salvos\n",
    "6. Bônus: Contar as palavras do exercício 1."
   ]
  },
  {
   "cell_type": "code",
   "execution_count": null,
   "metadata": {},
   "outputs": [],
   "source": [
    "!hdfs dfs -ls /user/ronnan/data/iris/"
   ]
  },
  {
   "cell_type": "code",
   "execution_count": null,
   "metadata": {},
   "outputs": [],
   "source": [
    "#verificar se os arquivos com final .data estão dentro da pasta\n",
    "## iris = spark.read.csv(\"/user/ronnan/data/iris/*.data\").show(5)"
   ]
  },
  {
   "cell_type": "code",
   "execution_count": null,
   "metadata": {},
   "outputs": [],
   "source": [
    "#verificar o total de linhas contidas no arquivo dezkiris\n",
    "#iris = spark.read.csv(\"/user/ronnan/data/iris/bezdekIris.data\")\n",
    "#iris.count()"
   ]
  },
  {
   "cell_type": "code",
   "execution_count": null,
   "metadata": {},
   "outputs": [],
   "source": [
    "#verificar o total de linhas contidas no arquivo dezkiris\n",
    "#iris = spark.read.csv(\"/user/ronnan/data/iris/iris.data\")\n",
    "#iris.count()"
   ]
  },
  {
   "cell_type": "code",
   "execution_count": null,
   "metadata": {},
   "outputs": [],
   "source": [
    "#necessario importa bibliotecas sql.types parar criar schema\n",
    "from pyspark.sql.types import StructType"
   ]
  },
  {
   "cell_type": "code",
   "execution_count": null,
   "metadata": {},
   "outputs": [],
   "source": [
    "#necessario criar schema antes de ler os arquivos como readStream\n",
    "iris_schema = StructType()\\\n",
    "    .add(\"sepal_length\", \"float\")\\\n",
    "    .add(\"sepal_width\", \"float\")\\\n",
    "    .add(\"petal_length\", \"float\")\\\n",
    "    .add(\"petal_width\", \"float\")\\\n",
    "    .add(\"class\", \"string\")"
   ]
  },
  {
   "cell_type": "code",
   "execution_count": null,
   "metadata": {},
   "outputs": [],
   "source": [
    "#verificar se o schema foi criado corretamente\n",
    "print(iris_schema)"
   ]
  },
  {
   "cell_type": "code",
   "execution_count": null,
   "metadata": {
    "scrolled": true
   },
   "outputs": [],
   "source": [
    "#verificando os 10 primeiros dados para ver\n",
    "#iris = spark.read.schema(iris_schema).csv(\"/user/ronnan/data/iris/*.data\").show(10)"
   ]
  },
  {
   "cell_type": "code",
   "execution_count": null,
   "metadata": {},
   "outputs": [],
   "source": [
    "#lendo os arquivos com readStream\n",
    "iris = spark.readStream.schema(iris_schema).csv(\"/user/ronnan/data/iris/*.data\")"
   ]
  },
  {
   "cell_type": "code",
   "execution_count": null,
   "metadata": {},
   "outputs": [],
   "source": [
    "#printar o schema para verificação\n",
    "iris.printSchema()"
   ]
  },
  {
   "cell_type": "code",
   "execution_count": null,
   "metadata": {},
   "outputs": [],
   "source": [
    "# saida do arquivo salvando como CSV, criando checkpoint com diretorio de metadados e path para escolher diretorio de salvamento\n",
    "iris_saida = iris.writeStream.format(\"csv\")\\\n",
    "    .option(\"checkpointLocation\", \"/user/ronnan/stream_iris/check\")\\\n",
    "    .option(\"path\",\"/user/ronnan/stream_iris/path\")\\\n",
    "    .start()\n"
   ]
  },
  {
   "cell_type": "code",
   "execution_count": null,
   "metadata": {},
   "outputs": [],
   "source": [
    "#ler o ultimo status do arquivo\n",
    "iris_saida.lastProgress"
   ]
  },
  {
   "cell_type": "code",
   "execution_count": null,
   "metadata": {},
   "outputs": [],
   "source": [
    "#ler os status do processo de saida\n",
    "iris_saida.status"
   ]
  },
  {
   "cell_type": "code",
   "execution_count": null,
   "metadata": {},
   "outputs": [],
   "source": [
    "#verificar no hdfs se os arquivos foram criados com diretorio de metadados\n",
    "! hdfs dfs -ls /user/ronnan/stream_iris/check"
   ]
  },
  {
   "cell_type": "code",
   "execution_count": null,
   "metadata": {
    "scrolled": true
   },
   "outputs": [],
   "source": [
    "#verificar no hdfs se os arquivos foram criados no path\n",
    "! hdfs dfs -ls /user/ronnan/stream_iris/path"
   ]
  },
  {
   "cell_type": "code",
   "execution_count": null,
   "metadata": {},
   "outputs": [],
   "source": [
    "#ler dentro do diretorio para verificar se o arquivo contem as 150 linhas do inicio do exercicio\n",
    "spark.read.csv (\"/user/ronnan/stream_iris/path/part-00001-c85715cc-55f8-410f-896f-41dfc242d1a8-c000.csv\").count()"
   ]
  }
 ],
 "metadata": {
  "kernelspec": {
   "display_name": "PySpark",
   "language": "python",
   "name": "pyspark"
  },
  "language_info": {
   "codemirror_mode": {
    "name": "ipython",
    "version": 3
   },
   "file_extension": ".py",
   "mimetype": "text/x-python",
   "name": "python",
   "nbconvert_exporter": "python",
   "pygments_lexer": "ipython3",
   "version": "3.6.10"
  }
 },
 "nbformat": 4,
 "nbformat_minor": 2
}
