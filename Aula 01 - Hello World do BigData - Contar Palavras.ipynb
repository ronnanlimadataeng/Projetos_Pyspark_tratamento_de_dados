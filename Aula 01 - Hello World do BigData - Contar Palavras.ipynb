{
 "cells": [
  {
   "cell_type": "markdown",
   "metadata": {},
   "source": [
    "Exercício DStream - Word Count \n",
    "1. Criar o diretório no hdfs “/user/rodrigo/stream”\n",
    "2. Criar uma aplicação para contar palavras a cada 10 segundos da porta 9998 e exibir no console durante 50 segundos\n",
    "3. Criar uma aplicação para contar palavras a cada 10 segundos da porta 9998 e salvar os dados no namenode no diretório “hdfs://namenode/user/ronnan/stream/word_count” durante 50 segundos\n",
    "4. Clicar no botão de Enviar Tarefa, e enviar o texto: ok"
   ]
  },
  {
   "cell_type": "code",
   "execution_count": 4,
   "metadata": {},
   "outputs": [],
   "source": [
    "#requisitos antes e inciar\n",
    "#importando bibliotecas streaming e StreamingContext\n",
    "from pyspark import SparkContext\n",
    "from pyspark.streaming import StreamingContext\n",
    "from time import sleep"
   ]
  },
  {
   "cell_type": "code",
   "execution_count": 5,
   "metadata": {},
   "outputs": [],
   "source": [
    "#requisitos antes e inciar\n",
    "#conf para setar as configurações do spark\n",
    "conf = SparkConf().setMaster(\"local[*]\").setAppName(\"Dstream WordCount\")\n",
    "sc = SparkContext.getOrCreate(conf)\n",
    "\n",
    "#criando sessão do spark(contexto do spark, de quantos em quantos segundos)\n",
    "\n",
    "ssc = StreamingContext(sc,10)"
   ]
  },
  {
   "cell_type": "code",
   "execution_count": 2,
   "metadata": {},
   "outputs": [
    {
     "name": "stdout",
     "output_type": "stream",
     "text": [
      "mkdir: `/user/ronnan/stream': File exists\r\n"
     ]
    }
   ],
   "source": [
    "#1. Criar o diretório no hdfs “/user/ronnan/stream”\n",
    "!hdfs dfs -mkdir /user/ronnan/stream"
   ]
  },
  {
   "cell_type": "code",
   "execution_count": 6,
   "metadata": {},
   "outputs": [],
   "source": [
    "#2. Criar uma aplicação para contar palavras a cada 10 segundos da porta 9998 e exibir no console durante 50 segundos\n",
    "#3. Criar uma aplicação para contar palavras a cada 10 segundos da porta 9998\n",
    "dstream = ssc.socketTextStream(\"localhost\", 9998)\n",
    "\n",
    "#separando por espaços, #organizando o mapeamento de contagem, #somar as palavras encontradas\n",
    "\n",
    "wordcount = dstream.flatMap(lambda linha: linha.split(\" \"))\\\n",
    "                    .map(lambda palavra: (palavra,1))\\\n",
    "                    .reduceByKey(lambda chave1, chave2: chave1+chave2)\n",
    "wordcount.pprint()"
   ]
  },
  {
   "cell_type": "code",
   "execution_count": 5,
   "metadata": {},
   "outputs": [],
   "source": [
    "#3.1 e salvar os dados no namenode no diretório “hdfs://namenode/user/ronnan/stream/word_count” durante 50 segundos\n",
    "wordcount.saveAsTextFiles(\"/user/ronnan/stream/word_count\")"
   ]
  },
  {
   "cell_type": "code",
   "execution_count": 6,
   "metadata": {},
   "outputs": [
    {
     "name": "stdout",
     "output_type": "stream",
     "text": [
      "-------------------------------------------\n",
      "Time: 2022-04-15 02:07:20\n",
      "-------------------------------------------\n",
      "\n",
      "-------------------------------------------\n",
      "Time: 2022-04-15 02:07:30\n",
      "-------------------------------------------\n",
      "('', 1)\n",
      "('df', 1)\n",
      "('fgfd', 1)\n",
      "('g', 1)\n",
      "('\\x1b[A\\x1b[Bdfg', 1)\n",
      "('gdf', 3)\n",
      "('gdgf', 1)\n",
      "('dfg', 1)\n",
      "('gd', 4)\n",
      "('fdg', 2)\n",
      "...\n",
      "\n",
      "-------------------------------------------\n",
      "Time: 2022-04-15 02:07:40\n",
      "-------------------------------------------\n",
      "('werwe', 1)\n",
      "('r', 3)\n",
      "('gdf', 1)\n",
      "('gd', 2)\n",
      "('rwerw', 1)\n",
      "('re', 1)\n",
      "('gdg', 1)\n",
      "('derwr', 1)\n",
      "('wre', 1)\n",
      "('wrw', 1)\n",
      "...\n",
      "\n",
      "-------------------------------------------\n",
      "Time: 2022-04-15 02:07:50\n",
      "-------------------------------------------\n",
      "('56', 1)\n",
      "('432434', 1)\n",
      "('234', 2)\n",
      "('456', 1)\n",
      "('3444', 1)\n",
      "('324', 1)\n",
      "\n",
      "-------------------------------------------\n",
      "Time: 2022-04-15 02:08:00\n",
      "-------------------------------------------\n",
      "('', 3)\n",
      "('654', 1)\n",
      "('7654', 1)\n",
      "('7', 2)\n",
      "('678', 1)\n",
      "('5678', 1)\n",
      "('-0', 1)\n",
      "('8765', 1)\n",
      "('58', 1)\n",
      "('56787675', 1)\n",
      "\n"
     ]
    }
   ],
   "source": [
    "#iniciar aplicação com 50 segundos de sleep\n",
    "ssc.start()\n",
    "sleep(50)\n",
    "ssc.stop()"
   ]
  },
  {
   "cell_type": "code",
   "execution_count": 21,
   "metadata": {
    "scrolled": true
   },
   "outputs": [
    {
     "name": "stdout",
     "output_type": "stream",
     "text": [
      "Found 5 items\r\n",
      "drwxr-xr-x   - root supergroup          0 2022-04-15 02:07 /user/ronnan/stream/word_count-1649988440000\r\n",
      "drwxr-xr-x   - root supergroup          0 2022-04-15 02:07 /user/ronnan/stream/word_count-1649988450000\r\n",
      "drwxr-xr-x   - root supergroup          0 2022-04-15 02:07 /user/ronnan/stream/word_count-1649988460000\r\n",
      "drwxr-xr-x   - root supergroup          0 2022-04-15 02:07 /user/ronnan/stream/word_count-1649988470000\r\n",
      "drwxr-xr-x   - root supergroup          0 2022-04-15 02:08 /user/ronnan/stream/word_count-1649988480000\r\n"
     ]
    }
   ],
   "source": [
    "!hdfs dfs -ls /user/ronnan/stream"
   ]
  },
  {
   "cell_type": "code",
   "execution_count": 20,
   "metadata": {},
   "outputs": [],
   "source": [
    "!hdfs dfs -cat /user/ronnan/stream/"
   ]
  }
 ],
 "metadata": {
  "kernelspec": {
   "display_name": "PySpark",
   "language": "python",
   "name": "pyspark"
  },
  "language_info": {
   "codemirror_mode": {
    "name": "ipython",
    "version": 3
   },
   "file_extension": ".py",
   "mimetype": "text/x-python",
   "name": "python",
   "nbconvert_exporter": "python",
   "pygments_lexer": "ipython3",
   "version": "3.6.10"
  }
 },
 "nbformat": 4,
 "nbformat_minor": 2
}
