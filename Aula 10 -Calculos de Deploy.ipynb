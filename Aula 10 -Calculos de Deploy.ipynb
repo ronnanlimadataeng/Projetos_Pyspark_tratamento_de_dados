{
 "cells": [
  {
   "cell_type": "markdown",
   "metadata": {},
   "source": [
    "a) 20 nodes x 8 cores | 16Gb RAM\n",
    "b) 9 nodes x 20 cores | 128Gb RAM\n",
    "c) 6 nodes x 10 cores | 32Gb RAM – 3 Jobs em paralelo\n",
    "d) 10 nodes x 16 cores | 64Gb RAM – 50 % dos recursos já utilizados\n",
    "Configurar os atributos:\n",
    "    driver-memory\n",
    "    --executor-memory\n",
    "    --conf spark.yarn.driver.memoryOverhead\n",
    "    --conf spark.yarn.executor.memoryOverhead\n",
    "    --executors-core\n",
    "    --num-executors\n",
    "\n"
   ]
  },
  {
   "cell_type": "code",
   "execution_count": null,
   "metadata": {},
   "outputs": [],
   "source": [
    "a) 20 nodes x 8 cores | 16Gb RAM\n",
    "\n",
    "    driver-memory 8G\n",
    "    --executor-memory ((20*16)-10%)/39 = 8G\n",
    "    --conf spark.yarn.driver.memoryOverhead  3G\n",
    "    --conf spark.yarn.executor.memoryOverhead 2\n",
    "    --executors-core 4\n",
    "    --num-executors ((20*8)-10%)/4 = 39\n",
    "\n",
    "b) 9 nodes x 20 cores | 128Gb RAM\n",
    "\n",
    "    driver-memory 8G\n",
    "    --executor-memory ((9*128)-10%)/44 = 25G\n",
    "    --conf spark.yarn.driver.memoryOverhead  12G\n",
    "    --conf spark.yarn.executor.memoryOverhead 2\n",
    "    --executors-core 4\n",
    "    --num-executors ((9*20)-10%)/4 = 44\n",
    "\n",
    "c) 6 nodes x 10 cores | 32Gb RAM – 3 Jobs em paralelo\n",
    "\n",
    "    driver-memory 8G\n",
    "    --executor-memory (((6*32)-10%)/4)/3 = 15G\n",
    "    --conf spark.yarn.driver.memoryOverhead  2G\n",
    "    --conf spark.yarn.executor.memoryOverhead 1\n",
    "    --executors-core 4\n",
    "    --num-executors (((6*10)-10%)/4)/3 = 4\n",
    "\n",
    "d) 10 nodes x 16 cores | 64Gb RAM – 50 % dos recursos já utilizados\n",
    "\n",
    "    driver-memory 8G\n",
    "    --executor-memory (((10*64)-10%)/19)/2 = 16G\n",
    "    --conf spark.yarn.driver.memoryOverhead  6G\n",
    "    --conf spark.yarn.executor.memoryOverhead 2\n",
    "    --executors-core 4\n",
    "    --num-executors (((10*16)-10%)/4)/2 = 19\n",
    "\n"
   ]
  }
 ],
 "metadata": {
  "kernelspec": {
   "display_name": "PySpark",
   "language": "python",
   "name": "pyspark"
  },
  "language_info": {
   "codemirror_mode": {
    "name": "ipython",
    "version": 3
   },
   "file_extension": ".py",
   "mimetype": "text/x-python",
   "name": "python",
   "nbconvert_exporter": "python",
   "pygments_lexer": "ipython3",
   "version": "3.6.10"
  }
 },
 "nbformat": 4,
 "nbformat_minor": 2
}
