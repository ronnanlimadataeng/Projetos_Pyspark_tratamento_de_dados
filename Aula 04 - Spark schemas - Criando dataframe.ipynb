{
 "cells": [
  {
   "cell_type": "markdown",
   "metadata": {},
   "source": [
    "## Spark schemas - Aula 4 - criando dataframe\n",
    "1. Criar o DataFrame names_us_sem_schema para ler os arquivos no HDFS “/user/ronnan/data/names”\n",
    "2. Visualizar o Schema e os 5 primeiros registos do names_us_sem_schema\n",
    "3. Criar o DataFrame names_us para ler os arquivos no HDFS “/user/ronnan/data/names” com o seguinte schema:\n",
    "nome: String\n",
    "sexo: String\n",
    "quantidade: Inteiro\n",
    "4. Visualizar o Schema e os 5 primeiros registos do names_us\n",
    "5. Salvar o DataFrame names_us no formato orc no hdfs “/user/ronnan/names_us_orc”"
   ]
  },
  {
   "cell_type": "code",
   "execution_count": 2,
   "metadata": {
    "scrolled": true
   },
   "outputs": [
    {
     "name": "stdout",
     "output_type": "stream",
     "text": [
      "Found 139 items\n",
      "-rw-r--r--   3 root supergroup     282388 2022-04-06 03:19 /user/ronnan/data/names/NationalReadMe.pdf\n",
      "-rw-r--r--   3 root supergroup      22933 2022-04-06 03:19 /user/ronnan/data/names/yob1880.txt\n",
      "-rw-r--r--   3 root supergroup      22130 2022-04-06 03:19 /user/ronnan/data/names/yob1881.txt\n",
      "-rw-r--r--   3 root supergroup      24432 2022-04-06 03:19 /user/ronnan/data/names/yob1882.txt\n",
      "-rw-r--r--   3 root supergroup      23918 2022-04-06 03:19 /user/ronnan/data/names/yob1883.txt\n",
      "-rw-r--r--   3 root supergroup      26373 2022-04-06 03:19 /user/ronnan/data/names/yob1884.txt\n",
      "-rw-r--r--   3 root supergroup      26331 2022-04-06 03:19 /user/ronnan/data/names/yob1885.txt\n",
      "-rw-r--r--   3 root supergroup      27430 2022-04-06 03:19 /user/ronnan/data/names/yob1886.txt\n",
      "-rw-r--r--   3 root supergroup      27158 2022-04-06 03:19 /user/ronnan/data/names/yob1887.txt\n",
      "-rw-r--r--   3 root supergroup      30413 2022-04-06 03:19 /user/ronnan/data/names/yob1888.txt\n",
      "-rw-r--r--   3 root supergroup      29707 2022-04-06 03:19 /user/ronnan/data/names/yob1889.txt\n",
      "-rw-r--r--   3 root supergroup      30926 2022-04-06 03:19 /user/ronnan/data/names/yob1890.txt\n",
      "-rw-r--r--   3 root supergroup      30526 2022-04-06 03:19 /user/ronnan/data/names/yob1891.txt\n",
      "-rw-r--r--   3 root supergroup      33621 2022-04-06 03:19 /user/ronnan/data/names/yob1892.txt\n",
      "-rw-r--r--   3 root supergroup      32602 2022-04-06 03:19 /user/ronnan/data/names/yob1893.txt\n",
      "-rw-r--r--   3 root supergroup      33876 2022-04-06 03:19 /user/ronnan/data/names/yob1894.txt\n",
      "-rw-r--r--   3 root supergroup      35183 2022-04-06 03:19 /user/ronnan/data/names/yob1895.txt\n",
      "-rw-r--r--   3 root supergroup      35656 2022-04-06 03:19 /user/ronnan/data/names/yob1896.txt\n",
      "-rw-r--r--   3 root supergroup      34908 2022-04-06 03:19 /user/ronnan/data/names/yob1897.txt\n",
      "-rw-r--r--   3 root supergroup      37660 2022-04-06 03:19 /user/ronnan/data/names/yob1898.txt\n",
      "-rw-r--r--   3 root supergroup      35099 2022-04-06 03:19 /user/ronnan/data/names/yob1899.txt\n",
      "-rw-r--r--   3 root supergroup      43129 2022-04-06 03:19 /user/ronnan/data/names/yob1900.txt\n",
      "-rw-r--r--   3 root supergroup      36431 2022-04-06 03:19 /user/ronnan/data/names/yob1901.txt\n",
      "-rw-r--r--   3 root supergroup      38922 2022-04-06 03:19 /user/ronnan/data/names/yob1902.txt\n",
      "-rw-r--r--   3 root supergroup      39290 2022-04-06 03:19 /user/ronnan/data/names/yob1903.txt\n",
      "-rw-r--r--   3 root supergroup      41248 2022-04-06 03:19 /user/ronnan/data/names/yob1904.txt\n",
      "-rw-r--r--   3 root supergroup      42348 2022-04-06 03:19 /user/ronnan/data/names/yob1905.txt\n",
      "-rw-r--r--   3 root supergroup      42212 2022-04-06 03:19 /user/ronnan/data/names/yob1906.txt\n",
      "-rw-r--r--   3 root supergroup      45881 2022-04-06 03:19 /user/ronnan/data/names/yob1907.txt\n",
      "-rw-r--r--   3 root supergroup      46823 2022-04-06 03:19 /user/ronnan/data/names/yob1908.txt\n",
      "-rw-r--r--   3 root supergroup      49274 2022-04-06 03:19 /user/ronnan/data/names/yob1909.txt\n",
      "-rw-r--r--   3 root supergroup      54081 2022-04-06 03:19 /user/ronnan/data/names/yob1910.txt\n",
      "-rw-r--r--   3 root supergroup      56894 2022-04-06 03:19 /user/ronnan/data/names/yob1911.txt\n",
      "-rw-r--r--   3 root supergroup      74378 2022-04-06 03:19 /user/ronnan/data/names/yob1912.txt\n",
      "-rw-r--r--   3 root supergroup      81737 2022-04-06 03:19 /user/ronnan/data/names/yob1913.txt\n",
      "-rw-r--r--   3 root supergroup      93578 2022-04-06 03:19 /user/ronnan/data/names/yob1914.txt\n",
      "-rw-r--r--   3 root supergroup     110074 2022-04-06 03:19 /user/ronnan/data/names/yob1915.txt\n",
      "-rw-r--r--   3 root supergroup     114180 2022-04-06 03:19 /user/ronnan/data/names/yob1916.txt\n",
      "-rw-r--r--   3 root supergroup     116869 2022-04-06 03:19 /user/ronnan/data/names/yob1917.txt\n",
      "-rw-r--r--   3 root supergroup     122667 2022-04-06 03:19 /user/ronnan/data/names/yob1918.txt\n",
      "-rw-r--r--   3 root supergroup     122360 2022-04-06 03:19 /user/ronnan/data/names/yob1919.txt\n",
      "-rw-r--r--   3 root supergroup     126989 2022-04-06 03:19 /user/ronnan/data/names/yob1920.txt\n",
      "-rw-r--r--   3 root supergroup     128335 2022-04-06 03:19 /user/ronnan/data/names/yob1921.txt\n",
      "-rw-r--r--   3 root supergroup     127403 2022-04-06 03:19 /user/ronnan/data/names/yob1922.txt\n",
      "-rw-r--r--   3 root supergroup     126026 2022-04-06 03:19 /user/ronnan/data/names/yob1923.txt\n",
      "-rw-r--r--   3 root supergroup     128740 2022-04-06 03:19 /user/ronnan/data/names/yob1924.txt\n",
      "-rw-r--r--   3 root supergroup     126138 2022-04-06 03:19 /user/ronnan/data/names/yob1925.txt\n",
      "-rw-r--r--   3 root supergroup     123844 2022-04-06 03:19 /user/ronnan/data/names/yob1926.txt\n",
      "-rw-r--r--   3 root supergroup     123476 2022-04-06 03:19 /user/ronnan/data/names/yob1927.txt\n",
      "-rw-r--r--   3 root supergroup     120559 2022-04-06 03:19 /user/ronnan/data/names/yob1928.txt\n",
      "-rw-r--r--   3 root supergroup     116603 2022-04-06 03:19 /user/ronnan/data/names/yob1929.txt\n",
      "-rw-r--r--   3 root supergroup     116141 2022-04-06 03:19 /user/ronnan/data/names/yob1930.txt\n",
      "-rw-r--r--   3 root supergroup     110307 2022-04-06 03:19 /user/ronnan/data/names/yob1931.txt\n",
      "-rw-r--r--   3 root supergroup     111428 2022-04-06 03:19 /user/ronnan/data/names/yob1932.txt\n",
      "-rw-r--r--   3 root supergroup     106872 2022-04-06 03:19 /user/ronnan/data/names/yob1933.txt\n",
      "-rw-r--r--   3 root supergroup     108880 2022-04-06 03:19 /user/ronnan/data/names/yob1934.txt\n",
      "-rw-r--r--   3 root supergroup     107261 2022-04-06 03:19 /user/ronnan/data/names/yob1935.txt\n",
      "-rw-r--r--   3 root supergroup     105435 2022-04-06 03:19 /user/ronnan/data/names/yob1936.txt\n",
      "-rw-r--r--   3 root supergroup     106394 2022-04-06 03:19 /user/ronnan/data/names/yob1937.txt\n",
      "-rw-r--r--   3 root supergroup     107306 2022-04-06 03:19 /user/ronnan/data/names/yob1938.txt\n",
      "-rw-r--r--   3 root supergroup     105890 2022-04-06 03:19 /user/ronnan/data/names/yob1939.txt\n",
      "-rw-r--r--   3 root supergroup     106692 2022-04-06 03:19 /user/ronnan/data/names/yob1940.txt\n",
      "-rw-r--r--   3 root supergroup     108135 2022-04-06 03:19 /user/ronnan/data/names/yob1941.txt\n",
      "-rw-r--r--   3 root supergroup     112221 2022-04-06 03:19 /user/ronnan/data/names/yob1942.txt\n",
      "-rw-r--r--   3 root supergroup     112109 2022-04-06 03:19 /user/ronnan/data/names/yob1943.txt\n",
      "-rw-r--r--   3 root supergroup     108983 2022-04-06 03:19 /user/ronnan/data/names/yob1944.txt\n",
      "-rw-r--r--   3 root supergroup     107482 2022-04-06 03:19 /user/ronnan/data/names/yob1945.txt\n",
      "-rw-r--r--   3 root supergroup     115762 2022-04-06 03:19 /user/ronnan/data/names/yob1946.txt\n",
      "-rw-r--r--   3 root supergroup     123692 2022-04-06 03:19 /user/ronnan/data/names/yob1947.txt\n",
      "-rw-r--r--   3 root supergroup     122177 2022-04-06 03:19 /user/ronnan/data/names/yob1948.txt\n",
      "-rw-r--r--   3 root supergroup     122582 2022-04-06 03:19 /user/ronnan/data/names/yob1949.txt\n",
      "-rw-r--r--   3 root supergroup     122916 2022-04-06 03:19 /user/ronnan/data/names/yob1950.txt\n",
      "-rw-r--r--   3 root supergroup     125029 2022-04-06 03:19 /user/ronnan/data/names/yob1951.txt\n",
      "-rw-r--r--   3 root supergroup     127023 2022-04-06 03:19 /user/ronnan/data/names/yob1952.txt\n",
      "-rw-r--r--   3 root supergroup     129306 2022-04-06 03:19 /user/ronnan/data/names/yob1953.txt\n",
      "-rw-r--r--   3 root supergroup     130704 2022-04-06 03:19 /user/ronnan/data/names/yob1954.txt\n",
      "-rw-r--r--   3 root supergroup     132491 2022-04-06 03:19 /user/ronnan/data/names/yob1955.txt\n",
      "-rw-r--r--   3 root supergroup     135176 2022-04-06 03:19 /user/ronnan/data/names/yob1956.txt\n",
      "-rw-r--r--   3 root supergroup     137578 2022-04-06 03:19 /user/ronnan/data/names/yob1957.txt\n",
      "-rw-r--r--   3 root supergroup     137161 2022-04-06 03:19 /user/ronnan/data/names/yob1958.txt\n",
      "-rw-r--r--   3 root supergroup     140204 2022-04-06 03:19 /user/ronnan/data/names/yob1959.txt\n",
      "-rw-r--r--   3 root supergroup     142113 2022-04-06 03:19 /user/ronnan/data/names/yob1960.txt\n",
      "-rw-r--r--   3 root supergroup     145415 2022-04-06 03:19 /user/ronnan/data/names/yob1961.txt\n",
      "-rw-r--r--   3 root supergroup     145748 2022-04-06 03:19 /user/ronnan/data/names/yob1962.txt\n",
      "-rw-r--r--   3 root supergroup     146617 2022-04-06 03:19 /user/ronnan/data/names/yob1963.txt\n",
      "-rw-r--r--   3 root supergroup     148163 2022-04-06 03:19 /user/ronnan/data/names/yob1964.txt\n",
      "-rw-r--r--   3 root supergroup     143073 2022-04-06 03:19 /user/ronnan/data/names/yob1965.txt\n",
      "-rw-r--r--   3 root supergroup     145279 2022-04-06 03:19 /user/ronnan/data/names/yob1966.txt\n",
      "-rw-r--r--   3 root supergroup     148231 2022-04-06 03:19 /user/ronnan/data/names/yob1967.txt\n",
      "-rw-r--r--   3 root supergroup     154505 2022-04-06 03:19 /user/ronnan/data/names/yob1968.txt\n",
      "-rw-r--r--   3 root supergroup     164234 2022-04-06 03:19 /user/ronnan/data/names/yob1969.txt\n",
      "-rw-r--r--   3 root supergroup     176742 2022-04-06 03:19 /user/ronnan/data/names/yob1970.txt\n",
      "-rw-r--r--   3 root supergroup     182845 2022-04-06 03:19 /user/ronnan/data/names/yob1971.txt\n",
      "-rw-r--r--   3 root supergroup     184045 2022-04-06 03:19 /user/ronnan/data/names/yob1972.txt\n",
      "-rw-r--r--   3 root supergroup     187351 2022-04-06 03:19 /user/ronnan/data/names/yob1973.txt\n",
      "-rw-r--r--   3 root supergroup     194198 2022-04-06 03:19 /user/ronnan/data/names/yob1974.txt\n",
      "-rw-r--r--   3 root supergroup     202247 2022-04-06 03:19 /user/ronnan/data/names/yob1975.txt\n",
      "-rw-r--r--   3 root supergroup     207530 2022-04-06 03:19 /user/ronnan/data/names/yob1976.txt\n",
      "-rw-r--r--   3 root supergroup     216839 2022-04-06 03:19 /user/ronnan/data/names/yob1977.txt\n",
      "-rw-r--r--   3 root supergroup     217721 2022-04-06 03:19 /user/ronnan/data/names/yob1978.txt\n",
      "-rw-r--r--   3 root supergroup     227426 2022-04-06 03:19 /user/ronnan/data/names/yob1979.txt\n",
      "-rw-r--r--   3 root supergroup     231934 2022-04-06 03:19 /user/ronnan/data/names/yob1980.txt\n",
      "-rw-r--r--   3 root supergroup     232391 2022-04-06 03:19 /user/ronnan/data/names/yob1981.txt\n",
      "-rw-r--r--   3 root supergroup     235164 2022-04-06 03:19 /user/ronnan/data/names/yob1982.txt\n",
      "-rw-r--r--   3 root supergroup     231517 2022-04-06 03:19 /user/ronnan/data/names/yob1983.txt\n",
      "-rw-r--r--   3 root supergroup     233195 2022-04-06 03:19 /user/ronnan/data/names/yob1984.txt\n",
      "-rw-r--r--   3 root supergroup     240206 2022-04-06 03:19 /user/ronnan/data/names/yob1985.txt\n",
      "-rw-r--r--   3 root supergroup     247368 2022-04-06 03:19 /user/ronnan/data/names/yob1986.txt\n",
      "-rw-r--r--   3 root supergroup     256966 2022-04-06 03:19 /user/ronnan/data/names/yob1987.txt\n",
      "-rw-r--r--   3 root supergroup     268670 2022-04-06 03:19 /user/ronnan/data/names/yob1988.txt\n",
      "-rw-r--r--   3 root supergroup     285757 2022-04-06 03:19 /user/ronnan/data/names/yob1989.txt\n",
      "-rw-r--r--   3 root supergroup     297363 2022-04-06 03:19 /user/ronnan/data/names/yob1990.txt\n",
      "-rw-r--r--   3 root supergroup     302046 2022-04-06 03:19 /user/ronnan/data/names/yob1991.txt\n",
      "-rw-r--r--   3 root supergroup     306131 2022-04-06 03:19 /user/ronnan/data/names/yob1992.txt\n",
      "-rw-r--r--   3 root supergroup     311948 2022-04-06 03:19 /user/ronnan/data/names/yob1993.txt\n",
      "-rw-r--r--   3 root supergroup     312205 2022-04-06 03:19 /user/ronnan/data/names/yob1994.txt\n",
      "-rw-r--r--   3 root supergroup     313056 2022-04-06 03:19 /user/ronnan/data/names/yob1995.txt\n",
      "-rw-r--r--   3 root supergroup     316632 2022-04-06 03:19 /user/ronnan/data/names/yob1996.txt\n",
      "-rw-r--r--   3 root supergroup     323146 2022-04-06 03:19 /user/ronnan/data/names/yob1997.txt\n",
      "-rw-r--r--   3 root supergroup     333698 2022-04-06 03:19 /user/ronnan/data/names/yob1998.txt\n",
      "-rw-r--r--   3 root supergroup     340816 2022-04-06 03:19 /user/ronnan/data/names/yob1999.txt\n",
      "-rw-r--r--   3 root supergroup     355292 2022-04-06 03:19 /user/ronnan/data/names/yob2000.txt\n",
      "-rw-r--r--   3 root supergroup     360841 2022-04-06 03:19 /user/ronnan/data/names/yob2001.txt\n",
      "-rw-r--r--   3 root supergroup     364242 2022-04-06 03:19 /user/ronnan/data/names/yob2002.txt\n",
      "-rw-r--r--   3 root supergroup     371403 2022-04-06 03:19 /user/ronnan/data/names/yob2003.txt\n",
      "-rw-r--r--   3 root supergroup     381425 2022-04-06 03:19 /user/ronnan/data/names/yob2004.txt\n",
      "-rw-r--r--   3 root supergroup     387627 2022-04-06 03:19 /user/ronnan/data/names/yob2005.txt\n",
      "-rw-r--r--   3 root supergroup     406206 2022-04-06 03:19 /user/ronnan/data/names/yob2006.txt\n",
      "-rw-r--r--   3 root supergroup     416307 2022-04-06 03:19 /user/ronnan/data/names/yob2007.txt\n",
      "-rw-r--r--   3 root supergroup     417673 2022-04-06 03:19 /user/ronnan/data/names/yob2008.txt\n",
      "-rw-r--r--   3 root supergroup     413241 2022-04-06 03:19 /user/ronnan/data/names/yob2009.txt\n",
      "-rw-r--r--   3 root supergroup     405463 2022-04-06 03:19 /user/ronnan/data/names/yob2010.txt\n",
      "-rw-r--r--   3 root supergroup     403184 2022-04-06 03:19 /user/ronnan/data/names/yob2011.txt\n",
      "-rw-r--r--   3 root supergroup     401118 2022-04-06 03:19 /user/ronnan/data/names/yob2012.txt\n",
      "-rw-r--r--   3 root supergroup     395333 2022-04-06 03:19 /user/ronnan/data/names/yob2013.txt\n",
      "-rw-r--r--   3 root supergroup     394676 2022-04-06 03:19 /user/ronnan/data/names/yob2014.txt\n",
      "-rw-r--r--   3 root supergroup     392735 2022-04-06 03:19 /user/ronnan/data/names/yob2015.txt\n",
      "-rw-r--r--   3 root supergroup     391060 2022-04-06 03:19 /user/ronnan/data/names/yob2016.txt\n",
      "-rw-r--r--   3 root supergroup     384568 2022-04-06 03:19 /user/ronnan/data/names/yob2017.txt\n"
     ]
    }
   ],
   "source": [
    "!hdfs dfs -ls /user/ronnan/data/names/"
   ]
  },
  {
   "cell_type": "code",
   "execution_count": 3,
   "metadata": {
    "scrolled": true
   },
   "outputs": [],
   "source": [
    "#1. Criar o DataFrame names_us_sem_schema para ler os arquivos no HDFS “/user/ronnan/data/names”\n",
    "names_us_sem_schema = spark.read.csv(\"/user/ronnan/data/names\")"
   ]
  },
  {
   "cell_type": "code",
   "execution_count": 4,
   "metadata": {},
   "outputs": [
    {
     "name": "stdout",
     "output_type": "stream",
     "text": [
      "root\n",
      " |-- _c0: string (nullable = true)\n",
      " |-- _c1: string (nullable = true)\n",
      " |-- _c2: string (nullable = true)\n",
      "\n",
      "None\n",
      "+--------+---+-----+\n",
      "|     _c0|_c1|  _c2|\n",
      "+--------+---+-----+\n",
      "|    Emma|  F|18809|\n",
      "|Isabella|  F|18612|\n",
      "|   Emily|  F|17429|\n",
      "|  Olivia|  F|17078|\n",
      "|     Ava|  F|17035|\n",
      "+--------+---+-----+\n",
      "only showing top 5 rows\n",
      "\n"
     ]
    }
   ],
   "source": [
    "#2. Visualizar o Schema e os 5 primeiros registos do names_us_sem_schema\n",
    "print(names_us_sem_schema.printSchema())\n",
    "names_us_sem_schema.show(5)"
   ]
  },
  {
   "cell_type": "code",
   "execution_count": 5,
   "metadata": {},
   "outputs": [],
   "source": [
    "from pyspark.sql.types import *"
   ]
  },
  {
   "cell_type": "code",
   "execution_count": 10,
   "metadata": {},
   "outputs": [],
   "source": [
    "#3. Criar o DataFrame names_us para ler os arquivos no HDFS “/user/ronnan/data/names” com o seguinte schema\n",
    "estrutura_lista = [ StructField(\"nome\", StringType()),\n",
    "                   StructField(\"sexo\", StringType()),\n",
    "                   StructField(\"quantidade\", IntegerType())\n",
    "]\n",
    "schema_names = StructType(estrutura_lista)\n",
    "\n",
    "\n",
    "\"\"\"\"\n",
    "ou criar assim\n",
    "schema_names = StructType[(StructField(\"nome\", StringType()),\n",
    "                   StructField(\"sexo\", StringType()),\n",
    "                   StructField(\"quantidade\", IntegerType()))]\n",
    "\"\"\"\"\n"
   ]
  },
  {
   "cell_type": "code",
   "execution_count": 12,
   "metadata": {},
   "outputs": [],
   "source": [
    "#4. Visualizar o Schema e os 5 primeiros registos do names_us\n",
    "names_us = spark.read.csv(\"/user/ronnan/data/names\", schema= schema_names)"
   ]
  },
  {
   "cell_type": "code",
   "execution_count": 14,
   "metadata": {},
   "outputs": [
    {
     "name": "stdout",
     "output_type": "stream",
     "text": [
      "root\n",
      " |-- nome: string (nullable = true)\n",
      " |-- sexo: string (nullable = true)\n",
      " |-- quantidade: integer (nullable = true)\n",
      "\n",
      "None\n",
      "+---------+----+----------+\n",
      "|     nome|sexo|quantidade|\n",
      "+---------+----+----------+\n",
      "|     Emma|   F|     18809|\n",
      "| Isabella|   F|     18612|\n",
      "|    Emily|   F|     17429|\n",
      "|   Olivia|   F|     17078|\n",
      "|      Ava|   F|     17035|\n",
      "|  Madison|   F|     17027|\n",
      "|   Sophia|   F|     16081|\n",
      "|  Abigail|   F|     15081|\n",
      "|Elizabeth|   F|     12002|\n",
      "|    Chloe|   F|     11824|\n",
      "+---------+----+----------+\n",
      "only showing top 10 rows\n",
      "\n"
     ]
    }
   ],
   "source": [
    "print(names_us.printSchema())\n",
    "names_us.show(10)"
   ]
  },
  {
   "cell_type": "code",
   "execution_count": 15,
   "metadata": {},
   "outputs": [],
   "source": [
    "#5. Salvar o DataFrame names_us no formato orc no hdfs “/user/ronnan/names_us_orc”\n",
    "names_us.write.orc(\"/user/ronnan/names_us_orc\")"
   ]
  },
  {
   "cell_type": "code",
   "execution_count": 16,
   "metadata": {},
   "outputs": [
    {
     "name": "stdout",
     "output_type": "stream",
     "text": [
      "Found 6 items\r\n",
      "-rw-r--r--   2 root supergroup          0 2022-04-09 18:55 /user/ronnan/names_us_orc/_SUCCESS\r\n",
      "-rw-r--r--   2 root supergroup    5373395 2022-04-09 18:55 /user/ronnan/names_us_orc/part-00000-55eba877-7000-493d-afea-8e974f53b3fc-c000.snappy.orc\r\n",
      "-rw-r--r--   2 root supergroup    2889115 2022-04-09 18:55 /user/ronnan/names_us_orc/part-00001-55eba877-7000-493d-afea-8e974f53b3fc-c000.snappy.orc\r\n",
      "-rw-r--r--   2 root supergroup    1900448 2022-04-09 18:55 /user/ronnan/names_us_orc/part-00002-55eba877-7000-493d-afea-8e974f53b3fc-c000.snappy.orc\r\n",
      "-rw-r--r--   2 root supergroup    1026246 2022-04-09 18:55 /user/ronnan/names_us_orc/part-00003-55eba877-7000-493d-afea-8e974f53b3fc-c000.snappy.orc\r\n",
      "-rw-r--r--   2 root supergroup     101254 2022-04-09 18:55 /user/ronnan/names_us_orc/part-00004-55eba877-7000-493d-afea-8e974f53b3fc-c000.snappy.orc\r\n"
     ]
    }
   ],
   "source": [
    "!hdfs dfs -ls /user/ronnan/names_us_orc"
   ]
  }
 ],
 "metadata": {
  "kernelspec": {
   "display_name": "PySpark",
   "language": "python",
   "name": "pyspark"
  },
  "language_info": {
   "codemirror_mode": {
    "name": "ipython",
    "version": 3
   },
   "file_extension": ".py",
   "mimetype": "text/x-python",
   "name": "python",
   "nbconvert_exporter": "python",
   "pygments_lexer": "ipython3",
   "version": "3.6.10"
  }
 },
 "nbformat": 4,
 "nbformat_minor": 2
}
