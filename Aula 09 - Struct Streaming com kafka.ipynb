{
 "cells": [
  {
   "cell_type": "markdown",
   "metadata": {},
   "source": [
    "1. Ler o tópico do kafka “topic-kvspark” em modo batch\n",
    "2. Visualizar o schema do tópico\n",
    "3. Visualizar o tópico com o campo key e value convertidos em string\n",
    "4. Ler o tópico do kafka “topic-kvspark” em modo streaming\n",
    "5. Visualizar o schema do tópico em streaming\n",
    "6. Alterar o tópico em streaming com o campo key e value convertidos para string\n",
    "7. Salvar o tópico em streaming no tópico topic-kvspark-output a cada 5 segundos\n",
    "8. Salvar o tópico na pasta hdfs://namenode:8020/user/<nome>/Kafka/topic-kvspark-output\n"
   ]
  },
  {
   "cell_type": "code",
   "execution_count": 1,
   "metadata": {},
   "outputs": [],
   "source": [
    "#necessario importar as functions do SQl função \"col\"\n",
    "from pyspark.sql.functions import *"
   ]
  },
  {
   "cell_type": "code",
   "execution_count": 2,
   "metadata": {},
   "outputs": [],
   "source": [
    "# fazer a leitura do topic kafka com formato kafka, localhost(kafka:9092),qual topico(topic-kvspark)\n",
    "topic_read = spark.read\\\n",
    "    .format(\"kafka\")\\\n",
    "    .option(\"kafka.bootstrap.servers\", \"kafka:9092\")\\\n",
    "    .option(\"subscribe\",\"topic-kvspark\")\\\n",
    "    .load()"
   ]
  },
  {
   "cell_type": "code",
   "execution_count": 3,
   "metadata": {},
   "outputs": [
    {
     "name": "stdout",
     "output_type": "stream",
     "text": [
      "root\n",
      " |-- key: binary (nullable = true)\n",
      " |-- value: binary (nullable = true)\n",
      " |-- topic: string (nullable = true)\n",
      " |-- partition: integer (nullable = true)\n",
      " |-- offset: long (nullable = true)\n",
      " |-- timestamp: timestamp (nullable = true)\n",
      " |-- timestampType: integer (nullable = true)\n",
      "\n"
     ]
    }
   ],
   "source": [
    "#mostrar o schema\n",
    "topic_read.printSchema()"
   ]
  },
  {
   "cell_type": "code",
   "execution_count": 4,
   "metadata": {},
   "outputs": [
    {
     "name": "stdout",
     "output_type": "stream",
     "text": [
      "+----+-----+\n",
      "| key|value|\n",
      "+----+-----+\n",
      "|   1| Msg1|\n",
      "|   3| Msg3|\n",
      "|   4| Msg4|\n",
      "|null| msg2|\n",
      "|null| msg4|\n",
      "|null| msg6|\n",
      "|null| msg8|\n",
      "|null|msg10|\n",
      "|null|  ola|\n",
      "|null|  ola|\n",
      "|   2| Msg2|\n",
      "|   5| Msg5|\n",
      "|   6| Msg6|\n",
      "|null| msg1|\n",
      "|null| msg3|\n",
      "|null| msg5|\n",
      "|null| msg7|\n",
      "|null| msg9|\n",
      "|null|  ola|\n",
      "|null|  ola|\n",
      "+----+-----+\n",
      "\n"
     ]
    }
   ],
   "source": [
    "#lembre se de importa a functions do sql\n",
    "#ler os campos key e value(utilizar o .cast para converter de binario para string) e mostrar com show\n",
    "topic_string = topic_read.select(col(\"key\").cast(\"string\"),col(\"value\").cast(\"string\"))\n",
    "topic_string.show()"
   ]
  },
  {
   "cell_type": "code",
   "execution_count": 20,
   "metadata": {},
   "outputs": [],
   "source": [
    "#lendo novamente os dados do kafka, só que agora com stream\n",
    "#.option(\"startingOffsets\",\"earliest\")\\ #---> para  ler os topicos desde o inicio que foram gerados\n",
    "\n",
    "topic_read_stream = spark.readStream\\\n",
    "    .format(\"kafka\")\\\n",
    "    .option(\"kafka.bootstrap.servers\", \"kafka:9092\")\\\n",
    "    .option(\"subscribe\",\"topic-kvspark\")\\\n",
    "    .option(\"startingOffsets\",\"earliest\")\\\n",
    "    .load()"
   ]
  },
  {
   "cell_type": "code",
   "execution_count": 21,
   "metadata": {},
   "outputs": [
    {
     "name": "stdout",
     "output_type": "stream",
     "text": [
      "root\n",
      " |-- key: binary (nullable = true)\n",
      " |-- value: binary (nullable = true)\n",
      " |-- topic: string (nullable = true)\n",
      " |-- partition: integer (nullable = true)\n",
      " |-- offset: long (nullable = true)\n",
      " |-- timestamp: timestamp (nullable = true)\n",
      " |-- timestampType: integer (nullable = true)\n",
      "\n"
     ]
    }
   ],
   "source": [
    "#mostrar o schema\n",
    "topic_read_stream.printSchema()"
   ]
  },
  {
   "cell_type": "code",
   "execution_count": 7,
   "metadata": {},
   "outputs": [],
   "source": [
    "#AGORA COM STREAM\n",
    "#lembre se de importa a functions do sql\n",
    "#ler os campos key e value(utilizar o .cast para converter de binario para string) e mostrar com show\n",
    "topic_string_stream = topic_read_stream.select(col(\"key\").cast(\"string\"),col(\"value\").cast(\"string\"))\n"
   ]
  },
  {
   "cell_type": "code",
   "execution_count": 22,
   "metadata": {},
   "outputs": [],
   "source": [
    "# Criar um topico no kafka topic-kvspark-output para as mensagens de saida\n",
    "topic_string_stream_output = topic_string_stream.writeStream\\\n",
    "    .format(\"kafka\")\\\n",
    "    .option(\"kafka.bootstrap.servers\", \"kafka:9092\")\\\n",
    "    .option(\"topic\",\"topic-kvspark-output\")\\\n",
    "    .option(\"checkpointLocation\", \"/user/ronnan/kafka_checkpoint_csv3\")\\\n",
    "    .trigger(continuous='5 second')\\\n",
    "    .start()"
   ]
  },
  {
   "cell_type": "code",
   "execution_count": 23,
   "metadata": {},
   "outputs": [
    {
     "data": {
      "text/plain": [
       "{'message': 'Initializing sources',\n",
       " 'isDataAvailable': False,\n",
       " 'isTriggerActive': True}"
      ]
     },
     "execution_count": 23,
     "metadata": {},
     "output_type": "execute_result"
    }
   ],
   "source": [
    "# verificar o topico do kafka qual seu status atual \n",
    "topic_string_stream_output.status"
   ]
  },
  {
   "cell_type": "code",
   "execution_count": null,
   "metadata": {},
   "outputs": [],
   "source": [
    "# verificar se o topic leu corretamente após a execução no stream de saida\n",
    "topic_read2 = spark.read\\\n",
    "    .format(\"kafka\")\\\n",
    "    .option(\"kafka.bootstrap.servers\", \"kafka:9092\")\\\n",
    "    .option(\"subscribe\",\"topic-kvspark-output\")\\\n",
    "    .load()"
   ]
  },
  {
   "cell_type": "code",
   "execution_count": null,
   "metadata": {},
   "outputs": [],
   "source": [
    "#verificar2\n",
    "topic_string2 = topic_read2.select(col(\"key\").cast(\"string\"),col(\"value\").cast(\"string\"),\"partition\",\"offset\")\n",
    "topic_string2.show()\n"
   ]
  },
  {
   "cell_type": "code",
   "execution_count": 11,
   "metadata": {},
   "outputs": [],
   "source": [
    "#salvando o topic no diretorio do hdfs no formato csv\n",
    "topic_string_stream_output = topic_string_stream.writeStream\\\n",
    "    .format(\"csv\")\\\n",
    "    .option(\"checkpointLocation\", \"/user/ronnan/kafka_checkpoint_csv1\")\\\n",
    "    .option(\"path\",\"/user/ronnan/kafka/topic-kvspark-output\")\\\n",
    "    .start()"
   ]
  },
  {
   "cell_type": "code",
   "execution_count": 12,
   "metadata": {
    "scrolled": true
   },
   "outputs": [
    {
     "name": "stdout",
     "output_type": "stream",
     "text": [
      "Found 6 items\n",
      "drwxr-xr-x   - root supergroup          0 2022-04-18 22:15 /user/ronnan/kafka/topic-kvspark-output/_spark_metadata\n",
      "-rw-r--r--   2 root supergroup          0 2022-04-18 22:07 /user/ronnan/kafka/topic-kvspark-output/part-00000-14e8bddf-3695-428a-bde7-42c5cb20aac4-c000.csv\n",
      "-rw-r--r--   2 root supergroup          7 2022-04-18 22:15 /user/ronnan/kafka/topic-kvspark-output/part-00000-ae7ef6b4-6a9e-4c5b-8c5a-7d754d8b63b8-c000.csv\n",
      "-rw-r--r--   2 root supergroup          7 2022-04-18 22:15 /user/ronnan/kafka/topic-kvspark-output/part-00000-b1165005-0ae8-4d4c-af22-5dd14809c2c6-c000.csv\n",
      "-rw-r--r--   2 root supergroup          7 2022-04-18 22:15 /user/ronnan/kafka/topic-kvspark-output/part-00001-2fde33b5-ba2c-4bed-a290-6a16a2095aec-c000.csv\n",
      "-rw-r--r--   2 root supergroup          7 2022-04-18 22:15 /user/ronnan/kafka/topic-kvspark-output/part-00001-98958cef-7dcc-4334-a8f6-21dd488c67bd-c000.csv\n"
     ]
    }
   ],
   "source": [
    "#verificando se o topic foi salvo no diretorio do hdfs\n",
    "!hdfs dfs -ls /user/ronnan/kafka/topic-kvspark-output"
   ]
  },
  {
   "cell_type": "code",
   "execution_count": null,
   "metadata": {},
   "outputs": [],
   "source": [
    "!hdfs dfs -cat /user/ronnan/kafka/topic-kvspark-output/*.csv"
   ]
  }
 ],
 "metadata": {
  "kernelspec": {
   "display_name": "PySpark",
   "language": "python",
   "name": "pyspark"
  },
  "language_info": {
   "codemirror_mode": {
    "name": "ipython",
    "version": 3
   },
   "file_extension": ".py",
   "mimetype": "text/x-python",
   "name": "python",
   "nbconvert_exporter": "python",
   "pygments_lexer": "ipython3",
   "version": "3.6.10"
  }
 },
 "nbformat": 4,
 "nbformat_minor": 2
}
